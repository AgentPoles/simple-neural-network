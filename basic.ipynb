{
 "cells": [
  {
   "cell_type": "code",
   "execution_count": 16,
   "metadata": {},
   "outputs": [],
   "source": [
    "import numpy\n",
    "import scipy.special"
   ]
  },
  {
   "cell_type": "code",
   "execution_count": 22,
   "metadata": {},
   "outputs": [],
   "source": [
    "\n",
    "\n",
    "class NeuralNetworks: \n",
    "        def __init__(self, inodes, hnodes, onodes, learning_rate) -> None:\n",
    "                self.input_nodes = inodes\n",
    "                self.hidden_nodes = hnodes\n",
    "                self.output_nodes = onodes\n",
    "                self.learning_rate = learning_rate\n",
    "                self.input_hidden_weights = numpy.random.normal(0.0, pow(self.hidden_nodes, -0.5), (self.hidden_nodes, self.input_nodes))\n",
    "                self.hidden_output_weights = numpy.random.normal(0.0, pow(self.output_nodes, -0.5), (self.output_nodes, self.hidden_nodes) )\n",
    "                self.activation_function = lambda x: scipy.special.expit(x)\n",
    "                pass\n",
    "        \n",
    "        def train(self, inputlist, traininglist):\n",
    "                 (initial_output, initial_hidden, initial_input) = self.query(inputlist)\n",
    "                 eoutput = numpy.array(traininglist, ndmin=2).T - initial_output\n",
    "                 ehidden = numpy.dot(self.hidden_output_weights.T, eoutput)\n",
    "                 change_in_hidden_output_weights = self.learning_rate * numpy.dot(eoutput * initial_output * (1 - initial_output) , initial_hidden.T)\n",
    "                 change_in_input_hidden_weights = self.learning_rate * numpy.dot(ehidden * initial_hidden * (1 - initial_hidden) , initial_input.T)\n",
    "                 self.hidden_output_weights = self.hidden_output_weights + change_in_hidden_output_weights\n",
    "                 self.input_hidden_weights = self.input_hidden_weights + change_in_input_hidden_weights\n",
    "                 pass\n",
    "        \n",
    "        def query(self, input):\n",
    "                 inputs = numpy.array(input, ndmin = 2).T\n",
    "                 hidden_inputs = numpy.dot(self.input_hidden_weights, inputs)\n",
    "                 hidden_outputs = self.activation_function(hidden_inputs)\n",
    "                 final_inputs = numpy.dot(self.hidden_output_weights, hidden_outputs)\n",
    "                 final_outputs = self.activation_function(final_inputs)\n",
    "                 return (final_outputs, hidden_outputs, inputs)\n",
    "\n"
   ]
  },
  {
   "cell_type": "code",
   "execution_count": 23,
   "metadata": {},
   "outputs": [
    {
     "data": {
      "text/plain": [
       "(array([[0.47118406],\n",
       "        [0.34716518],\n",
       "        [0.40444559]]),\n",
       " array([[0.54460554],\n",
       "        [0.35848307],\n",
       "        [0.57374081]]),\n",
       " array([[1. ],\n",
       "        [0.5],\n",
       "        [1.5]]))"
      ]
     },
     "execution_count": 23,
     "metadata": {},
     "output_type": "execute_result"
    }
   ],
   "source": [
    "input_nodes = 3\n",
    "hidden_nodes = 3\n",
    "output_nodes = 3\n",
    "learning_rate = 0.3\n",
    "sample_input = [1.0, 0.5, 1.5]\n",
    "n = NeuralNetworks(input_nodes, hidden_nodes, output_nodes, learning_rate)\n",
    "n.query(sample_input)"
   ]
  },
  {
   "cell_type": "code",
   "execution_count": null,
   "metadata": {},
   "outputs": [],
   "source": [
    "n.train([1.0, 0.5, 1.5], [0.5, 0.3, 2.1] )"
   ]
  }
 ],
 "metadata": {
  "kernelspec": {
   "display_name": "base",
   "language": "python",
   "name": "python3"
  },
  "language_info": {
   "codemirror_mode": {
    "name": "ipython",
    "version": 3
   },
   "file_extension": ".py",
   "mimetype": "text/x-python",
   "name": "python",
   "nbconvert_exporter": "python",
   "pygments_lexer": "ipython3",
   "version": "3.9.13"
  },
  "orig_nbformat": 4
 },
 "nbformat": 4,
 "nbformat_minor": 2
}
